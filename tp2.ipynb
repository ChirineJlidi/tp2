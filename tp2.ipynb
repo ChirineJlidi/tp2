{
 "cells": [
  {
   "cell_type": "markdown",
   "metadata": {},
   "source": [
    "<u><h2 style=\"color:red\"> 1/Polynome Interpolation de Lagrange</h2></u>\n",
    "## EX1\n",
    "> Soient $(x_0,y_0), \\ldots,(x_k,y_k),\\ldots ,(x_n,k_n)$ $n+1$ points deux à deux distincts, le polynôme d'interpolation de Lagrange associés à ces points supports est défini par :\n",
    "> $$P_n(x)=\\sum_{k=0}^{n-1} y_kL_k(x)$$\n",
    "\n",
    "avec $L_{0}(x)=\\displaystyle\\frac{(x-x_1)(x-x_2)\\ldots(x-x_{n})}{(x_0-x_1)(x_0-x_2)\\ldots(x_0-x_{n})}$ et $L_{k}(x)=\\displaystyle\\frac{(x-x_1)(x-x_2)\\ldots(x-x_{k-1})(x-x_{k+1})\\ldots(x_0-x_{n})}{(x_k-x_0)(x_k-x_1)\\ldots(x_k-x_{k-1})(x_k-x_{k+1})\\ldots(x_k-x_{n})}$ pour $k\\in \\{1,\\ldots,n\\}$"
   ]
  },
  {
   "cell_type": "markdown",
   "metadata": {},
   "source": [
    "1) Que renvoie la fonction PR lorsqu'on lui déclare  **x=(x(1),x(2),...,x(n))x=(x(1),x(2),...,x(n))**  et  **y=(y(1),y(2),...,y(n))y=(y(1),y(2),...,y(n))**  deux vecteurs de même longueur  `n` et `c`  un nombre réel donné."
   ]
  },
  {
   "cell_type": "code",
   "execution_count": null,
   "metadata": {},
   "outputs": [],
   "source": [
    "from numpy import prod\n",
    "def PR(x,y,c):\n",
    "    S = [] \n",
    "    n = len(x)\n",
    "    \n",
    "    for i in range(n):\n",
    "        L =[c-k for k in x]\n",
    "        for j in range(n):\n",
    "            if (j == i):                \n",
    "                L[j] = 1\n",
    "            else:\n",
    "                L[j] = L[j]/(x[i] - x[j])   \n",
    "        S.append(y[i]*prod(L))\n",
    "      \n",
    "    return  sum(S)"
   ]
  },
  {
   "cell_type": "code",
   "execution_count": null,
   "metadata": {},
   "outputs": [],
   "source": [
    "X=[1,2,3,4]\n",
    "Y=[-1,0,2,1]\n",
    "for i in X:\n",
    "    print(PR(X,Y,i))"
   ]
  },
  {
   "cell_type": "markdown",
   "metadata": {},
   "source": [
    "2) Que contient le vecteur  LL  après la fin de la boucle  kk ."
   ]
  },
  {
   "cell_type": "code",
   "execution_count": null,
   "metadata": {
    "scrolled": true
   },
   "outputs": [],
   "source": [
    "X=[1,2,3,4]\n",
    "Y=[-1,0,2,1]\n",
    "S = Y \n",
    "n = len(X)\n",
    "for c in X:\n",
    "        for i in range(n):\n",
    "            L =[c-k for k in X]\n",
    "            for j in range(n):\n",
    "                if (j == i):                \n",
    "                    L[j] = 1\n",
    "                else:\n",
    "                    L[j] = L[j]/(X[i] - X[j])   \n",
    "            S.append(Y[i]*prod(L))\n",
    "        sum(S)"
   ]
  },
  {
   "cell_type": "code",
   "execution_count": null,
   "metadata": {},
   "outputs": [],
   "source": [
    "L"
   ]
  },
  {
   "cell_type": "markdown",
   "metadata": {},
   "source": [
    "L de 4 !!"
   ]
  },
  {
   "cell_type": "markdown",
   "metadata": {},
   "source": [
    "3) Utiliser cette fonction pour dessiner le graph du polynôme de Lagrange  de la fonction $f(x) = \\dfrac{1}{1 + x^2}$ aux points $x=[-1:0.1:1]$."
   ]
  },
  {
   "cell_type": "code",
   "execution_count": null,
   "metadata": {
    "scrolled": true
   },
   "outputs": [],
   "source": [
    "import matplotlib.pyplot as plt\n",
    "import numpy as np\n",
    "f=lambda x: 1/(1+x**2)\n",
    "x=np.arange(-1.0, 1.0, 0.1)\n",
    "y=[f(i) for i in x]\n",
    "pt=[]\n",
    "t=np.linspace(-1,1,100)\n",
    "for u in range(len(t)):\n",
    "    pt.append(PR(x,y,t[u]))\n",
    "plt.plot(t,pt,'r',x,y,'bo',t,f(t),'g')"
   ]
  },
  {
   "cell_type": "markdown",
   "metadata": {},
   "source": [
    "4) On considère la fonction $F$ suivante :\n",
    "$$\n",
    "F(h) = \\pi -\\cos \\left(\\frac{h}{2}\\right) + h \\sqrt{1-\\left(\\frac{h}{2}\\right)^2}, \\qquad\n",
    "h\\in [0,2],\n",
    "$$\n",
    "et les points d'interpolation $x_i = ih$, $0\\leq i\\leq n$, avec $ n=20$ et $h=0.1$."
   ]
  },
  {
   "cell_type": "markdown",
   "metadata": {},
   "source": [
    "4.1) Représenter sur un même graphe la fonction $F$ et $p_n$, où\n",
    " $p_n$ est le polynôme d'interpolation de Lagrange de $F$ aux\n",
    " points $x_0,\\,\\ldots,\\,x_n$."
   ]
  },
  {
   "cell_type": "code",
   "execution_count": null,
   "metadata": {},
   "outputs": [],
   "source": [
    "from math import *\n",
    "f=lambda x: pi-cos(x/2)+x*sqrt(1-(x/2)**2)\n",
    "x=np.linspace(0,2,3)\n",
    "y=[f(i) for i in x]\n",
    "pn=[]\n",
    "tn=np.linspace(-1,1,100)\n",
    "for u in range(len(tn)):\n",
    "    pn.append(PR(x,y,tn[u]))\n",
    "k=[f(i) for i in tn]\n",
    "plt.plot(tn,pn,'r',x,y,'bo',tn,k,'g')\n",
    "plt.show()"
   ]
  },
  {
   "cell_type": "code",
   "execution_count": null,
   "metadata": {},
   "outputs": [],
   "source": [
    "f=lambda x: pi-cos(x/2)+x*sqrt(1-(x/2)**2)\n",
    "x=np.linspace(0,2,3)\n",
    "y=[f(i) for i in x]\n",
    "for u in range(len(tn)):\n",
    "    pn.append(PR(x,y,tn[u]))\n",
    "k=[f(i)-j for i,j in zip(tn,pn)]\n",
    "plt.plot(tn,k,'r')"
   ]
  },
  {
   "cell_type": "markdown",
   "metadata": {},
   "source": [
    "<u><h2 style=\"color:red\"> 2/Phenomène de Runge</h2></u>\n",
    "## EX2"
   ]
  },
  {
   "cell_type": "markdown",
   "metadata": {},
   "source": [
    "1) Vérifier que sur $[-5,5]$ le polynôme d'interpolation de Lagrange\n",
    "  de la fonction $f$ définie par $f(x)=\\displaystyle{\\frac{1}{1+x^2}}$,\n",
    "en $N$ points uniformément espacés ne convergent pas correctement aux voisinages de $-1$ et $1$, pour $N=7,8,9,10 ...$"
   ]
  },
  {
   "cell_type": "code",
   "execution_count": null,
   "metadata": {},
   "outputs": [],
   "source": [
    "N=7\n",
    "X=np.linspace(-5,5,N)\n",
    "f=lambda x: 1/(1+x**2)\n",
    "fig=plt.figure(1,figsize=(10,8))\n",
    "Y=[f(i) for i in X]\n",
    "p=np.polyfit(X,Y,N-1)\n",
    "t=np.linspace(-5,5,1000)\n",
    "plt.subplot(2,2,1)\n",
    "k=np.polyval(p,t)\n",
    "plt.plot(t,f(t),'r',X,Y,'ob', t,k,'g')\n",
    "plt.title('Interpolation Equidistante avec N=7')\n",
    "##############################\n",
    "##############################\n",
    "N=8\n",
    "X=np.linspace(-5,5,N)\n",
    "f=lambda x: 1/(1+x**2);\n",
    "Y=[f(i) for i in X]\n",
    "p=np.polyfit(X,Y,N-1)\n",
    "plt.subplot(2,2,2)\n",
    "k=np.polyval(p,t)\n",
    "plt.plot(t,f(t),'r',X,Y,'ob', t,k,'g')\n",
    "plt.title('Interpolation Equidistante avec N=8')\n",
    "##############################\n",
    "N=9\n",
    "X=np.linspace(-5,5,N)\n",
    "f=lambda x: 1/(1+x**2);\n",
    "Y=[f(i) for i in X]\n",
    "p=np.polyfit(X,Y,N-1)\n",
    "plt.subplot(2,2,3)\n",
    "k=np.polyval(p,t)\n",
    "plt.plot(t,f(t),'r',X,Y,'ob', t,k,'g')\n",
    "plt.title('Interpolation Equidistante avec N=9')\n",
    "##############################\n",
    "N=10\n",
    "X=np.linspace(-5,5,N)\n",
    "f=lambda x: 1/(1+x**2);\n",
    "Y=[f(i) for i in X]\n",
    "p=np.polyfit(X,Y,N-1)\n",
    "plt.subplot(2,2,4)\n",
    "k=np.polyval(p,t)\n",
    "plt.plot(t,f(t),'r',X,Y,'ob', t,k,'g')\n",
    "plt.title('Interpolation Equidistante avec N=10')"
   ]
  },
  {
   "cell_type": "markdown",
   "metadata": {},
   "source": [
    "2) Les points de Tchebycheff sur un intervalle $[a;b]$ sont définie par :\n",
    "  $$x_k=\\dfrac{a+b}{2}+\\dfrac{a-b}{2}\\cos\\left(\\frac{k-1}{n-1}\\pi\\right)\\hspace{0.5cm} (k=1,..,n: x_1=a:x_n=b)$$\n",
    "\n",
    "  Vérifier que sur $[-5; 5]$ ; l'interpolation polynômiale de $f(x) = \\dfrac{1}{1 + x^2}$ ; en $N$ points de Tchebychev\n",
    "est meilleure qu'une  interpolation utilisant $N$ points uniforment espacés (on prendra $N=10, 11, 16, 17$)."
   ]
  },
  {
   "cell_type": "code",
   "execution_count": null,
   "metadata": {},
   "outputs": [],
   "source": [
    "from math import *\n",
    "def tcheb(a,b,n):\n",
    "    V=[]\n",
    "    for k in range(n):\n",
    "        V.append((a+b)/2+(a-b)/2*cos((k-1)/(n-1)*pi))\n",
    "    return V"
   ]
  },
  {
   "cell_type": "code",
   "execution_count": null,
   "metadata": {},
   "outputs": [],
   "source": [
    "N=10\n",
    "X=np.linspace(-5,5,N)\n",
    "f=lambda x: 1/(1+x**2)\n",
    "Xt=tcheb(-5,5,N);\n",
    "Yt=[f(i) for i in Xt]\n",
    "pt=np.polyfit(Xt,Yt,N-1)\n",
    "fig=plt.figure(1,figsize=(8,6))\n",
    "plt.subplot(2,2,1)\n",
    "k=np.polyval(pt,t)\n",
    "plt.plot(t,f(t),'r',Xt,Yt,'ob', t, k,'g')\n",
    "plt.title(\"Interpolation Tchebycheff avec N=10\")\n",
    "###################################################\n",
    "N=11\n",
    "X=np.linspace(-5,5,N)\n",
    "f=lambda x: 1/(1+x**2)\n",
    "Xt=tcheb(-5,5,N);\n",
    "Yt=[f(i) for i in Xt]\n",
    "pt=np.polyfit(Xt,Yt,N-1)\n",
    "plt.subplot(2,2,2)\n",
    "k=np.polyval(pt,t)\n",
    "plt.plot(t,f(t),'r',Xt,Yt,'ob', t, k,'g')\n",
    "plt.title(\"Interpolation Tchebycheff avec N=11\")\n",
    "##########################################################\n",
    "N=16\n",
    "X=np.linspace(-5,5,N)\n",
    "f=lambda x: 1/(1+x**2)\n",
    "Xt=tcheb(-5,5,N);\n",
    "Yt=[f(i) for i in Xt]\n",
    "pt=np.polyfit(Xt,Yt,N-1)\n",
    "plt.subplot(2,2,3)\n",
    "k=np.polyval(pt,t)\n",
    "plt.plot(t,f(t),'r',Xt,Yt,'ob', t, k,'g')\n",
    "plt.title(\"Interpolation Tchebycheff avec N=16\")\n",
    "##########################################################\n",
    "N=17\n",
    "X=np.linspace(-5,5,N)\n",
    "f=lambda x: 1/(1+x**2)\n",
    "Xt=tcheb(-5,5,N);\n",
    "Yt=[f(i) for i in Xt]\n",
    "pt=np.polyfit(Xt,Yt,N-1)\n",
    "plt.subplot(2,2,4)\n",
    "k=np.polyval(pt,t)\n",
    "plt.plot(t,f(t),'r',Xt,Yt,'ob', t, k,'g')\n",
    "plt.title(\"Interpolation Tchebycheff avec N=17\")"
   ]
  },
  {
   "cell_type": "markdown",
   "metadata": {},
   "source": [
    "<u><h2 style=\"color:red\"> 3/le polynôme de Newton</h2></u>\n",
    "## EX3"
   ]
  },
  {
   "cell_type": "markdown",
   "metadata": {},
   "source": [
    "1) Déterminer en utilisant les deux codes puis par un calcul à la main le polynôme de Newton pour les données suivantes :\n",
    "\n",
    "\n",
    "<center>\n",
    "<table>    \n",
    "      $\\begin{array}{|c|c|c|}\n",
    "   \\hline\n",
    "   i & x_i  & y_i \\\\\n",
    "   \\hline\n",
    "   0 &   -1  &   6 \\\\\n",
    "   1 &   0 &  1 \\\\\n",
    "   2 &  2  &  3 \\\\\n",
    "   3 &  5  &  66 \\\\\n",
    "   \\hline\n",
    "\\end{array}$  \n",
    "</table>\n",
    "</center>"
   ]
  },
  {
   "cell_type": "code",
   "execution_count": null,
   "metadata": {},
   "outputs": [],
   "source": [
    "def intN(x,y):\n",
    "    m=len(x)\n",
    "    f=np.zeros(m)\n",
    "    for k in range(1,m):\n",
    "        f[k:m+1]=np.array(np.array(y[k:m+1])-np.array(y[k-1:m-1]))/np.array(np.array(x[k:m+1])-np.array(x[0:m-k]))\n",
    "    return f"
   ]
  },
  {
   "cell_type": "code",
   "execution_count": null,
   "metadata": {},
   "outputs": [],
   "source": [
    "x=[-1,0,2,5]\n",
    "y=[6,1,3,66]\n",
    "intN(x,y)"
   ]
  },
  {
   "cell_type": "code",
   "execution_count": null,
   "metadata": {},
   "outputs": [],
   "source": [
    "p=y(0)+f(1)(x-x0)+f(2)(x-x0)(x-x1)+f(3)(x-x0)(x-x1)(x-x2)"
   ]
  },
  {
   "cell_type": "code",
   "execution_count": null,
   "metadata": {},
   "outputs": [],
   "source": [
    "def intNval(x,y,t):\n",
    "    m=len(x)\n",
    "    p=y[m-1]*np.ones(len(t))\n",
    "    for k in range(m-2,-1,-1):\n",
    "        p=p*np.array((np.array(t)-x[k]))+y[k]\n",
    "    return p"
   ]
  },
  {
   "cell_type": "code",
   "execution_count": null,
   "metadata": {},
   "outputs": [],
   "source": [
    "x=[-1,0,2,5]\n",
    "y=[6,1,3,66]\n",
    "t=[0,1,2,3]\n",
    "intNval(x,y,t)"
   ]
  },
  {
   "cell_type": "markdown",
   "metadata": {},
   "source": [
    "2) Donner le Graph du polynôme trouvé en 1) dans l'intervalle $[-1;5]$."
   ]
  },
  {
   "cell_type": "code",
   "execution_count": null,
   "metadata": {},
   "outputs": [],
   "source": [
    "x=[-1,0,2,5]\n",
    "y=[6,1,3,66]\n",
    "f=intN(x,y)\n",
    "plt.plot(x,f,'r',x,y,'ob')"
   ]
  },
  {
   "cell_type": "markdown",
   "metadata": {},
   "source": [
    "3) Calculer $P(1)$ en utilisant le polynôme trouvé en 1)."
   ]
  },
  {
   "cell_type": "code",
   "execution_count": null,
   "metadata": {},
   "outputs": [],
   "source": [
    "x=[-1,0,2,5]\n",
    "y=[6,1,3,66]\n",
    "t=[0,1,2,3]\n",
    "p=intNval(x,y,t)\n",
    "p[0]"
   ]
  },
  {
   "cell_type": "code",
   "execution_count": null,
   "metadata": {},
   "outputs": [],
   "source": []
  }
 ],
 "metadata": {
  "kernelspec": {
   "display_name": "Python 3",
   "language": "python",
   "name": "python3"
  },
  "language_info": {
   "codemirror_mode": {
    "name": "ipython",
    "version": 3
   },
   "file_extension": ".py",
   "mimetype": "text/x-python",
   "name": "python",
   "nbconvert_exporter": "python",
   "pygments_lexer": "ipython3",
   "version": "3.8.3"
  }
 },
 "nbformat": 4,
 "nbformat_minor": 4
}
